{
 "cells": [
  {
   "cell_type": "code",
   "execution_count": 2,
   "id": "3a00b12c",
   "metadata": {},
   "outputs": [],
   "source": [
    "from pathlib import Path\n",
    "import numpy as np\n",
    "import pickle"
   ]
  },
  {
   "cell_type": "code",
   "execution_count": 3,
   "id": "1021b075",
   "metadata": {},
   "outputs": [],
   "source": [
    "smplh_male_model_path = Path(\"/home/dominik/Downloads/smplh.tar/male/model.npz\")\n",
    "smplh_male_model2_path = Path(\"/home/dominik/Downloads/mano_v1_2/models/SMPLH_male.pkl\")\n",
    "smpl_male_model_path = Path(\"/home/dominik/Downloads/smpl/models/basicmodel_m_lbs_10_207_0_v1.0.0.pkl\")\n"
   ]
  },
  {
   "cell_type": "code",
   "execution_count": 4,
   "id": "5bd18000",
   "metadata": {},
   "outputs": [],
   "source": [
    "smplh_male_model = np.load(smplh_male_model_path, allow_pickle=True)"
   ]
  },
  {
   "cell_type": "code",
   "execution_count": 5,
   "id": "9b2fa30b",
   "metadata": {},
   "outputs": [
    {
     "name": "stderr",
     "output_type": "stream",
     "text": [
      "/tmp/ipykernel_41839/227083103.py:1: DeprecationWarning: Please use `coo_matrix` from the `scipy.sparse` namespace, the `scipy.sparse.coo` namespace is deprecated.\n",
      "  smplh_male_model2 = pickle.load(open(smplh_male_model2_path, \"rb\"), encoding=\"latin1\")\n"
     ]
    }
   ],
   "source": [
    "smplh_male_model2 = pickle.load(open(smplh_male_model2_path, \"rb\"), encoding=\"latin1\")"
   ]
  },
  {
   "cell_type": "code",
   "execution_count": 6,
   "id": "7dcd9692",
   "metadata": {},
   "outputs": [
    {
     "name": "stderr",
     "output_type": "stream",
     "text": [
      "/tmp/ipykernel_41839/3918833537.py:1: DeprecationWarning: Please use `csc_matrix` from the `scipy.sparse` namespace, the `scipy.sparse.csc` namespace is deprecated.\n",
      "  smpl_male_model = pickle.load(open(smpl_male_model_path, \"rb\"), encoding=\"latin1\")\n"
     ]
    }
   ],
   "source": [
    "smpl_male_model = pickle.load(open(smpl_male_model_path, \"rb\"), encoding=\"latin1\")"
   ]
  },
  {
   "cell_type": "code",
   "execution_count": 7,
   "id": "8ef7cb41",
   "metadata": {},
   "outputs": [
    {
     "name": "stdout",
     "output_type": "stream",
     "text": [
      "['J_regressor_prior', 'f', 'J_regressor', 'kintree_table', 'J', 'weights_prior', 'weights', 'posedirs', 'bs_style', 'v_template', 'shapedirs', 'bs_type']\n",
      "J_regressor_prior: (24, 6890)\n",
      "f: (13776, 3)\n",
      "J_regressor: (52, 6890)\n",
      "kintree_table: (2, 52)\n",
      "J: (24, 3)\n",
      "weights_prior: (6890, 24)\n",
      "weights: (6890, 52)\n",
      "posedirs: (6890, 3, 459)\n",
      "bs_style: ()\n",
      "v_template: (6890, 3)\n",
      "shapedirs: (6890, 3, 16)\n",
      "bs_type: ()\n"
     ]
    }
   ],
   "source": [
    "print(list(smplh_male_model.keys()))\n",
    "for key, value in smplh_male_model.items():\n",
    "    print(f\"{key}: {value.shape if isinstance(value, np.ndarray) else type(value)}\")"
   ]
  },
  {
   "cell_type": "code",
   "execution_count": 8,
   "id": "fc9a8d27",
   "metadata": {},
   "outputs": [
    {
     "name": "stdout",
     "output_type": "stream",
     "text": [
      "dict_keys(['f', 'J_regressor', 'kintree_table', 'J', 'bs_style', 'weights', 'posedirs', 'v_template', 'shapedirs', 'bs_type'])\n",
      "f: (13776, 3)\n",
      "J_regressor: (52, 6890)\n",
      "kintree_table: (2, 52)\n",
      "J: (52, 3)\n",
      "bs_style: <class 'str'>\n",
      "weights: (6890, 52)\n",
      "posedirs: (6890, 3, 459)\n",
      "v_template: (6890, 3)\n",
      "shapedirs: (6890, 3, 10)\n",
      "bs_type: <class 'str'>\n"
     ]
    }
   ],
   "source": [
    "print(smplh_male_model2.keys())\n",
    "for key, value in smplh_male_model2.items():\n",
    "    print(f\"{key}: {value.shape if hasattr(value, 'shape') else type(value)}\")"
   ]
  },
  {
   "cell_type": "code",
   "execution_count": 9,
   "id": "1ca80479",
   "metadata": {},
   "outputs": [
    {
     "name": "stdout",
     "output_type": "stream",
     "text": [
      "dict_keys(['J_regressor_prior', 'f', 'J_regressor', 'kintree_table', 'J', 'weights_prior', 'weights', 'vert_sym_idxs', 'posedirs', 'pose_training_info', 'bs_style', 'v_template', 'shapedirs', 'bs_type'])\n",
      "J_regressor_prior: (24, 6890)\n",
      "f: (13776, 3)\n",
      "J_regressor: (24, 6890)\n",
      "kintree_table: (2, 24)\n",
      "J: (24, 3)\n",
      "weights_prior: (6890, 24)\n",
      "weights: (6890, 24)\n",
      "vert_sym_idxs: (6890,)\n",
      "posedirs: (6890, 3, 207)\n",
      "pose_training_info: <class 'dict'>\n",
      "bs_style: <class 'str'>\n",
      "v_template: (6890, 3)\n",
      "shapedirs: (6890, 3, 10)\n",
      "bs_type: <class 'str'>\n"
     ]
    }
   ],
   "source": [
    "print(smpl_male_model.keys())\n",
    "for key, value in smpl_male_model.items():\n",
    "    print(f\"{key}: {value.shape if hasattr(value, 'shape') else type(value)}\")"
   ]
  },
  {
   "cell_type": "code",
   "execution_count": 17,
   "id": "c29c909c",
   "metadata": {},
   "outputs": [
    {
     "name": "stdout",
     "output_type": "stream",
     "text": [
      "f True\n",
      "J_regressor False\n",
      "J False\n",
      "bs_style True lbs lbs\n",
      "weights False\n",
      "posedirs False\n",
      "v_template False\n",
      "shapedirs False\n"
     ]
    }
   ],
   "source": [
    "smpl = smpl_male_model\n",
    "smplh = smplh_male_model2\n",
    "# compare smpl model and smplh model\n",
    "# f\n",
    "print(\"f\", np.allclose(smpl[\"f\"], smplh[\"f\"]))\n",
    "print(\"J_regressor\", np.allclose(\n",
    "    smpl[\"J_regressor\"].toarray(),\n",
    "    smplh[\"J_regressor\"].toarray()[:24, :]\n",
    "))\n",
    "# print(\"J_regressor\", np.allclose(smpl[\"J_regressor\"], smplh[\"J_regressor\"][:24, :]))\n",
    "print(\"J\", np.allclose(smpl[\"J\"], smplh[\"J\"][:24, :]))\n",
    "print(\"bs_style\", smpl[\"bs_style\"] == smplh[\"bs_style\"], smpl[\"bs_style\"], smplh[\"bs_style\"])\n",
    "print(\"weights\", np.allclose(smpl[\"weights\"], smplh[\"weights\"][:, :24]))\n",
    "print(\"posedirs\", np.allclose(smpl[\"posedirs\"], smplh[\"posedirs\"][:, :, :207]))\n",
    "print(\"v_template\", np.allclose(smpl[\"v_template\"], smplh[\"v_template\"]))\n",
    "print(\"shapedirs\", np.allclose(smpl[\"shapedirs\"], smplh[\"shapedirs\"]))"
   ]
  },
  {
   "cell_type": "code",
   "execution_count": 22,
   "id": "64bddf0e",
   "metadata": {},
   "outputs": [
    {
     "name": "stdout",
     "output_type": "stream",
     "text": [
      "f True\n",
      "J_regressor True\n",
      "J True\n",
      "bs_style False lbs b'lbs'\n",
      "weights False\n",
      "posedirs False\n",
      "v_template True\n",
      "shapedirs True\n"
     ]
    }
   ],
   "source": [
    "smpl = smpl_male_model\n",
    "smplh = smplh_male_model\n",
    "# compare smpl model and smplh model\n",
    "# f\n",
    "print(\"f\", np.allclose(smpl[\"f\"], smplh[\"f\"]))\n",
    "print(\"J_regressor\", np.allclose(\n",
    "    smpl[\"J_regressor\"].toarray()[:22, :],\n",
    "    smplh[\"J_regressor\"][:22, :]\n",
    "))\n",
    "# print(\"J_regressor\", np.allclose(smpl[\"J_regressor\"], smplh[\"J_regressor\"][:24, :]))\n",
    "print(\"J\", np.allclose(smpl[\"J\"], smplh[\"J\"][:24, :]))\n",
    "print(\"bs_style\", smpl[\"bs_style\"] == smplh[\"bs_style\"], smpl[\"bs_style\"], smplh[\"bs_style\"])\n",
    "print(\"weights\", np.allclose(smpl[\"weights\"][:, :22], smplh[\"weights\"][:, :22]))\n",
    "print(\"posedirs\", np.allclose(smpl[\"posedirs\"], smplh[\"posedirs\"][:, :, :207]))\n",
    "print(\"v_template\", np.allclose(smpl[\"v_template\"], smplh[\"v_template\"]))\n",
    "print(\"shapedirs\", np.allclose(smpl[\"shapedirs\"], smplh[\"shapedirs\"][:, :, :10]))\n"
   ]
  },
  {
   "cell_type": "code",
   "execution_count": null,
   "id": "eedf1d34",
   "metadata": {},
   "outputs": [],
   "source": []
  }
 ],
 "metadata": {
  "kernelspec": {
   "display_name": "UIP",
   "language": "python",
   "name": "python3"
  },
  "language_info": {
   "codemirror_mode": {
    "name": "ipython",
    "version": 3
   },
   "file_extension": ".py",
   "mimetype": "text/x-python",
   "name": "python",
   "nbconvert_exporter": "python",
   "pygments_lexer": "ipython3",
   "version": "3.8.10"
  }
 },
 "nbformat": 4,
 "nbformat_minor": 5
}
